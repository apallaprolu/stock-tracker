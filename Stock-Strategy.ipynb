{
 "cells": [
  {
   "cell_type": "code",
   "execution_count": 80,
   "metadata": {},
   "outputs": [
    {
     "name": "stdout",
     "output_type": "stream",
     "text": [
      "     pcost       dcost       gap    pres   dres\n",
      " 0:  2.9175e+01  1.5063e+01  6e+01  2e+00  2e-15\n",
      " 1:  2.9178e+01  2.3790e+01  8e+00  1e-01  1e-14\n",
      " 2:  3.2011e+01  2.9284e+01  8e+00  6e-02  8e-15\n",
      " 3:  3.5845e+01  3.3081e+01  1e+01  3e-02  6e-15\n",
      " 4:  3.7156e+01  3.4441e+01  7e+00  2e-02  1e-14\n",
      " 5:  5.4699e+01  3.3836e+01  4e+01  1e-02  2e-14\n",
      " 6:  4.7457e+01  3.9237e+01  1e+01  3e-03  1e-14\n",
      " 7:  5.3380e+01  4.3916e+01  2e+01  2e-03  4e-15\n",
      " 8:  4.8441e+01  4.7452e+01  1e+00  2e-05  1e-14\n",
      " 9:  4.7556e+01  4.7544e+01  1e-02  1e-07  3e-15\n",
      "10:  4.7545e+01  4.7545e+01  1e-04  1e-09  8e-15\n",
      "11:  4.7545e+01  4.7545e+01  1e-06  1e-11  2e-14\n",
      "Optimal solution found.\n"
     ]
    }
   ],
   "source": [
    "import pandas as pd\n",
    "from cvxopt import matrix, solvers\n",
    "import numpy as np\n",
    "import matplotlib.pyplot as plt\n",
    "\n",
    "# Solve the complete problem as a volatility-returns minmax problem:\n",
    "# Cost function to minimize: w^TCw - w^Tmu = w^T(Cw - mu)\n",
    "\n",
    "mean = pd.read_csv(\"mean.csv\", names=['val'])\n",
    "covar = pd.read_csv(\"covar.csv\", names=list(range(12)))\n",
    "covar.multiply(2.0)\n",
    "\n",
    "P = matrix(covar.values.tolist())\n",
    "q = matrix(list(map(lambda x: x * -1.0, mean['val'].tolist())))\n",
    "\n",
    "G_holder = []\n",
    "H_holder = []\n",
    "\n",
    "for k in range(12):\n",
    "    tmp = [0]*24\n",
    "    tmp[2*k] = -1.0\n",
    "    tmp[2*k + 1] = 1.0\n",
    "    G_holder.append(tmp)\n",
    "\n",
    "G = matrix(G_holder)\n",
    "\n",
    "for k in range(24):\n",
    "    if k % 2 == 0:\n",
    "        H_holder.append(0.0)\n",
    "    else:\n",
    "        H_holder.append(1.0)\n",
    "\n",
    "H = matrix(H_holder)\n",
    "\n",
    "A = matrix([[1.0]]*12)\n",
    "b = matrix(1.0)\n",
    "\n",
    "sol = solvers.qp(P, q, G, H, A, b)"
   ]
  },
  {
   "cell_type": "code",
   "execution_count": 81,
   "metadata": {},
   "outputs": [
    {
     "name": "stdout",
     "output_type": "stream",
     "text": [
      "[ 4.06e-02]\n",
      "[ 8.14e-11]\n",
      "[ 2.92e-11]\n",
      "[ 1.04e-10]\n",
      "[ 3.04e-01]\n",
      "[ 3.83e-11]\n",
      "[ 4.04e-11]\n",
      "[ 5.58e-01]\n",
      "[ 5.86e-02]\n",
      "[ 1.15e-10]\n",
      "[ 6.98e-10]\n",
      "[ 3.86e-02]\n",
      "\n"
     ]
    },
    {
     "data": {
      "text/plain": [
       "[0.04056202773486769,\n",
       " 8.138606161507094e-11,\n",
       " 2.9234627871642773e-11,\n",
       " 1.0439766302348244e-10,\n",
       " 0.30449554428524767,\n",
       " 3.834687168945212e-11,\n",
       " 4.038248244932626e-11,\n",
       " 0.5578076458072031,\n",
       " 0.058582061098400987,\n",
       " 1.1477726796345781e-10,\n",
       " 6.975995772998158e-10,\n",
       " 0.03855271996815597]"
      ]
     },
     "execution_count": 81,
     "metadata": {},
     "output_type": "execute_result"
    }
   ],
   "source": [
    "print(sol['x'])\n",
    "list(sol['x'])"
   ]
  },
  {
   "cell_type": "code",
   "execution_count": 82,
   "metadata": {},
   "outputs": [
    {
     "name": "stdout",
     "output_type": "stream",
     "text": [
      "     pcost       dcost       gap    pres   dres\n",
      " 0:  2.9632e+01  1.5577e+01  5e+01  2e+00  4e-13\n",
      " 1:  2.9635e+01  2.4321e+01  8e+00  1e-01  9e-13\n",
      " 2:  3.1790e+01  2.9326e+01  7e+00  6e-02  4e-13\n",
      " 3:  3.4407e+01  3.3157e+01  7e+00  3e-02  1e-12\n",
      " 4:  3.6294e+01  3.5197e+01  5e+00  1e-02  9e-13\n",
      " 5:  5.5424e+01  3.2768e+01  4e+01  9e-03  4e-13\n",
      " 6:  4.7663e+01  3.7893e+01  1e+01  3e-03  4e-12\n",
      " 7:  5.2929e+01  4.2946e+01  2e+01  2e-03  5e-12\n",
      " 8:  4.7889e+01  4.6823e+01  1e+00  4e-06  2e-12\n",
      " 9:  4.6949e+01  4.6933e+01  2e-02  4e-08  2e-12\n",
      "10:  4.6934e+01  4.6934e+01  2e-04  4e-10  1e-12\n",
      "11:  4.6934e+01  4.6934e+01  2e-06  4e-12  2e-13\n",
      "Optimal solution found.\n"
     ]
    }
   ],
   "source": [
    "q_ra = matrix([0.0]*12)\n",
    "# Solve a purely quadratic volatility reduction or risk averse strategy\n",
    "sol_ra = solvers.qp(P, q_ra, G, H, A, b)"
   ]
  },
  {
   "cell_type": "code",
   "execution_count": 83,
   "metadata": {},
   "outputs": [
    {
     "name": "stdout",
     "output_type": "stream",
     "text": [
      "[ 4.39e-02]\n",
      "[ 4.06e-11]\n",
      "[ 4.43e-11]\n",
      "[ 1.75e-10]\n",
      "[ 3.06e-01]\n",
      "[ 7.53e-11]\n",
      "[ 5.84e-11]\n",
      "[ 5.56e-01]\n",
      "[ 6.14e-02]\n",
      "[ 1.50e-10]\n",
      "[ 1.61e-09]\n",
      "[ 3.27e-02]\n",
      "\n"
     ]
    },
    {
     "data": {
      "text/plain": [
       "[0.04385432279249014,\n",
       " 4.062117746976489e-11,\n",
       " 4.4297627330023084e-11,\n",
       " 1.7512311441409164e-10,\n",
       " 0.3063688903763737,\n",
       " 7.525099003289814e-11,\n",
       " 5.843397155080132e-11,\n",
       " 0.5557028790809431,\n",
       " 0.061389176424999393,\n",
       " 1.4975904972502995e-10,\n",
       " 1.6096350231068939e-09,\n",
       " 0.03268472917207268]"
      ]
     },
     "execution_count": 83,
     "metadata": {},
     "output_type": "execute_result"
    }
   ],
   "source": [
    "print(sol_ra['x'])\n",
    "list(sol_ra['x'])"
   ]
  },
  {
   "cell_type": "code",
   "execution_count": 96,
   "metadata": {},
   "outputs": [],
   "source": [
    "# Plotting the frontier\n",
    "\n",
    "# We need to generate stochastic row vectors. \n",
    "N_iter = 100000\n",
    "stoch = np.random.rand(N_iter, 12)\n",
    "stoch = stoch/stoch.sum(axis=1)[:,None].tolist()\n",
    "\n",
    "mean_vector = mean['val'].values\n",
    "cov_matrix = covar.values\n",
    "\n",
    "exp_return = []\n",
    "exp_volatility = []\n",
    "wvec = []\n",
    "\n",
    "\n",
    "for i in stoch:\n",
    "    exp_return.append(np.dot(i, mean_vector))\n",
    "    exp_volatility.append(np.sqrt(np.dot(i, np.dot(cov_matrix, np.transpose(i)))))\n",
    "    wvec.append(i)"
   ]
  },
  {
   "cell_type": "code",
   "execution_count": 97,
   "metadata": {},
   "outputs": [
    {
     "data": {
      "image/png": "[encoded data removed]",
      "text/plain": [
       "<Figure size 432x288 with 1 Axes>"
      ]
     },
     "metadata": {
      "needs_background": "light"
     },
     "output_type": "display_data"
    }
   ],
   "source": [
    "plt.scatter(exp_volatility, exp_return)\n",
    "plt.show()"
   ]
  },
  {
   "cell_type": "code",
   "execution_count": null,
   "metadata": {},
   "outputs": [],
   "source": []
  }
 ],
 "metadata": {
  "kernelspec": {
   "display_name": "Python 3",
   "language": "python",
   "name": "python3"
  },
  "language_info": {
   "codemirror_mode": {
    "name": "ipython",
    "version": 3
   },
   "file_extension": ".py",
   "mimetype": "text/x-python",
   "name": "python",
   "nbconvert_exporter": "python",
   "pygments_lexer": "ipython3",
   "version": "3.7.3"
  }
 },
 "nbformat": 4,
 "nbformat_minor": 2
}
